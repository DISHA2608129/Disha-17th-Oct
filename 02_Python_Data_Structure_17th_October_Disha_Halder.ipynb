{
  "nbformat": 4,
  "nbformat_minor": 0,
  "metadata": {
    "colab": {
      "provenance": []
    },
    "kernelspec": {
      "name": "python3",
      "display_name": "Python 3"
    },
    "language_info": {
      "name": "python"
    }
  },
  "cells": [
    {
      "cell_type": "markdown",
      "source": [
        "Q1. Write a code to reverse a string."
      ],
      "metadata": {
        "id": "cyG65QMSPp76"
      }
    },
    {
      "cell_type": "code",
      "source": [
        "# Function to reverse a string\n",
        "def reverse_string(s):\n",
        "    return s[::-1]\n",
        "\n",
        "# Example usage\n",
        "input_string = \"Disha, Halder!\"\n",
        "reversed_string = reverse_string(input_string)\n",
        "print(\"Reversed String:\", reversed_string)\n"
      ],
      "metadata": {
        "colab": {
          "base_uri": "https://localhost:8080/"
        },
        "id": "VskMeD4nPwDj",
        "outputId": "6ace7acd-f262-438f-8e0d-01d75f42d364"
      },
      "execution_count": null,
      "outputs": [
        {
          "output_type": "stream",
          "name": "stdout",
          "text": [
            "Reversed String: !redlaH ,ahsiD\n"
          ]
        }
      ]
    },
    {
      "cell_type": "markdown",
      "source": [
        "Q2.Write a code to count the number of vowels in a string."
      ],
      "metadata": {
        "id": "pO1oqyBIPwhM"
      }
    },
    {
      "cell_type": "code",
      "source": [
        "def count_vowels(string):\n",
        "    # Define vowels\n",
        "    vowels = \"AEIOUaeiou\"\n",
        "    # Initialize count\n",
        "    count = 0\n",
        "    # Loop through each character in the string\n",
        "    for char in string:\n",
        "        if char in vowels:\n",
        "            count += 1\n",
        "    return count\n",
        "\n",
        "# Example\n",
        "input_string = \"Hi, what is your name?\"\n",
        "vowel_count = count_vowels(input_string)\n",
        "print(f\"Number of vowels: {vowel_count}\")\n"
      ],
      "metadata": {
        "colab": {
          "base_uri": "https://localhost:8080/"
        },
        "id": "7kSKpAr2Qud7",
        "outputId": "e60496e3-17ee-4c1b-cfb1-858fb6232c43"
      },
      "execution_count": null,
      "outputs": [
        {
          "output_type": "stream",
          "name": "stdout",
          "text": [
            "Number of vowels: 7\n"
          ]
        }
      ]
    },
    {
      "cell_type": "markdown",
      "source": [
        "Q3. Write a code to check if a given string is a palindrome or not."
      ],
      "metadata": {
        "id": "GpmqCG10QCVb"
      }
    },
    {
      "cell_type": "code",
      "source": [
        "def is_palindrome(s):\n",
        "    return s == s[::-1]\n",
        "\n",
        "# Example usage\n",
        "input_string = \"nursesrun\"\n",
        "print(is_palindrome(input_string))  # Output: True\n",
        "\n",
        "input_string = \"hello\"\n",
        "print(is_palindrome(input_string))  # Output: False\n"
      ],
      "metadata": {
        "colab": {
          "base_uri": "https://localhost:8080/"
        },
        "id": "0bPq2ZbpQJHu",
        "outputId": "3983f179-0f67-4758-b2fd-f6a0d9013426"
      },
      "execution_count": null,
      "outputs": [
        {
          "output_type": "stream",
          "name": "stdout",
          "text": [
            "True\n",
            "False\n"
          ]
        }
      ]
    },
    {
      "cell_type": "markdown",
      "source": [
        "Q4. Write a code to check if two given strings are anagrams of each other."
      ],
      "metadata": {
        "id": "k-1s4_poQJ1k"
      }
    },
    {
      "cell_type": "code",
      "source": [
        " def are_anagrams(str1, str2):\n",
        "    # Convert both strings to lowercase and sort the characters\n",
        "    return sorted(str1.lower()) == sorted(str2.lower())\n",
        "\n",
        "# Example usage:\n",
        "string1 = \"heart\"\n",
        "string2 = \"earth\"\n",
        "\n",
        "if are_anagrams(string1, string2):\n",
        "    print(\"The strings are anagrams.\")\n",
        "else:\n",
        "    print(\"The strings are not anagrams.\")\n"
      ],
      "metadata": {
        "colab": {
          "base_uri": "https://localhost:8080/"
        },
        "id": "i08O6rEMQNWn",
        "outputId": "fb4d4b2a-4e58-46f7-e085-6c7856226cb9"
      },
      "execution_count": null,
      "outputs": [
        {
          "output_type": "stream",
          "name": "stdout",
          "text": [
            "The strings are anagrams.\n"
          ]
        }
      ]
    },
    {
      "cell_type": "markdown",
      "source": [
        "Q5. Write a code to find all occurrences of a given substring within another string."
      ],
      "metadata": {
        "id": "Q_gKsO4XQNzD"
      }
    },
    {
      "cell_type": "code",
      "source": [
        "def find_occurrences(s, substring):\n",
        "    start = 0\n",
        "    occurrences = [4]\n",
        "\n",
        "    while True:\n",
        "        start = s.find(substring, start)\n",
        "        if start == -1:\n",
        "            break\n",
        "        occurrences.append(start)\n",
        "        start += 1  # Move to the next character after getting substring\n",
        "\n",
        "    return occurrences\n",
        "\n",
        "# Example usage\n",
        "string = \"This is a prime string. This prime is only a prime.\"\n",
        "substring = \"prime\"\n",
        "print(find_occurrences(string, substring))  # Output: [20, 31, 47]\n"
      ],
      "metadata": {
        "colab": {
          "base_uri": "https://localhost:8080/"
        },
        "id": "awCeZSlZVbaa",
        "outputId": "b2cd2211-0164-414f-9b08-c765bcca5300"
      },
      "execution_count": null,
      "outputs": [
        {
          "output_type": "stream",
          "name": "stdout",
          "text": [
            "[4, 10, 29, 45]\n"
          ]
        }
      ]
    },
    {
      "cell_type": "markdown",
      "source": [
        "Q6. Write a code to perform basic string compression using the counts of repeated characters.[link text](https://)"
      ],
      "metadata": {
        "id": "XblO02_EQRTk"
      }
    },
    {
      "cell_type": "code",
      "source": [
        "def compress_string(s):\n",
        "    if not s:\n",
        "        return \"\"\n",
        "\n",
        "    compressed = []\n",
        "    count = 1\n",
        "\n",
        "    for i in range(1, len(s)):\n",
        "        if s[i] == s[i - 1]:\n",
        "            count += 1\n",
        "        else:\n",
        "            compressed.append(f\"{s[i - 1]}{count}\")\n",
        "            count = 1\n",
        "\n",
        "    compressed.append(f\"{s[-1]}{count}\")\n",
        "\n",
        "    return ''.join(compressed) if len(compressed) < len(s) else s\n",
        "\n",
        "# Example usage\n",
        "input_string = \"aabcccccaaa\"\n",
        "print(compress_string(input_string))  # Output: \"a2b1c5a3\"\n"
      ],
      "metadata": {
        "colab": {
          "base_uri": "https://localhost:8080/"
        },
        "id": "rD8nsG99QR1s",
        "outputId": "22994777-4f30-4efb-9a6d-c6c75024330b"
      },
      "execution_count": null,
      "outputs": [
        {
          "output_type": "stream",
          "name": "stdout",
          "text": [
            "a2b1c5a3\n"
          ]
        }
      ]
    },
    {
      "cell_type": "markdown",
      "source": [
        "Q7. Write a code to determine if a string has all unique characters."
      ],
      "metadata": {
        "id": "HqLCpAjbSolC"
      }
    },
    {
      "cell_type": "code",
      "source": [
        "def has_unique_characters(s):\n",
        "    return len(s) == len(set(s))\n",
        "\n",
        "# Example usage\n",
        "input_string = \"ghijkl\"\n",
        "print(has_unique_characters(input_string))  # Output: True\n",
        "\n",
        "input_string = \"beautiful\"\n",
        "print(has_unique_characters(input_string))  # Output: False\n"
      ],
      "metadata": {
        "colab": {
          "base_uri": "https://localhost:8080/"
        },
        "id": "93qU_cG_St5M",
        "outputId": "60ac2e9d-5ef0-4a54-c88c-f62e85db5cff"
      },
      "execution_count": null,
      "outputs": [
        {
          "output_type": "stream",
          "name": "stdout",
          "text": [
            "True\n",
            "False\n"
          ]
        }
      ]
    },
    {
      "cell_type": "markdown",
      "source": [
        "Q8. Write a code to convert a given string to uppercase or lowercase."
      ],
      "metadata": {
        "id": "GY2-XQw0TKyF"
      }
    },
    {
      "cell_type": "code",
      "source": [
        "def convert_case(s, to_upper=True):\n",
        "    return s.upper() if to_upper else s.lower()\n",
        "\n",
        "# Example usage\n",
        "input_string = \"Bright, Future!\"\n",
        "print(convert_case(input_string, to_upper=True))  # Output: \"BRIGHT, FUTURE!\"\n",
        "print(convert_case(input_string, to_upper=False)) # Output: \"bright, future!\"\n"
      ],
      "metadata": {
        "colab": {
          "base_uri": "https://localhost:8080/"
        },
        "id": "CF15YSrNTM1M",
        "outputId": "bd650130-c64f-42bf-d125-c678457ed161"
      },
      "execution_count": null,
      "outputs": [
        {
          "output_type": "stream",
          "name": "stdout",
          "text": [
            "BRIGHT, FUTURE!\n",
            "bright, future!\n"
          ]
        }
      ]
    },
    {
      "cell_type": "markdown",
      "source": [
        "Q9. Write a code to count the number of words in a string."
      ],
      "metadata": {
        "id": "mEp8T0_pWigX"
      }
    },
    {
      "cell_type": "code",
      "source": [
        "def count_words(s):\n",
        "    return len(s.split())\n",
        "\n",
        "# Example usage\n",
        "input_string = \"Hi, why are you going?\"\n",
        "print(count_words(input_string))  # Output: 5\n"
      ],
      "metadata": {
        "colab": {
          "base_uri": "https://localhost:8080/"
        },
        "id": "SU0RFAw7WnI-",
        "outputId": "4d6f2f63-d428-4851-d81c-a3bd30bb5f95"
      },
      "execution_count": null,
      "outputs": [
        {
          "output_type": "stream",
          "name": "stdout",
          "text": [
            "5\n"
          ]
        }
      ]
    },
    {
      "cell_type": "markdown",
      "source": [
        "Q10. Write a code to concatenate two strings without using the operator."
      ],
      "metadata": {
        "id": "s8HOSgaWXERO"
      }
    },
    {
      "cell_type": "code",
      "source": [
        "def concatenate_strings(s1, s2):\n",
        "    return ''.join([s1, s2])\n",
        "\n",
        "# Example usage\n",
        "string1 = \"Time\"\n",
        "string2 = \"Flies\"\n",
        "result = concatenate_strings(string1, string2)\n",
        "print(result)  # Output: \"TimeFlies\"\n"
      ],
      "metadata": {
        "colab": {
          "base_uri": "https://localhost:8080/"
        },
        "id": "lbezFbE6Xb0q",
        "outputId": "d1fe802d-df63-446e-ca7c-d5b1e095d761"
      },
      "execution_count": null,
      "outputs": [
        {
          "output_type": "stream",
          "name": "stdout",
          "text": [
            "TimeFlies\n"
          ]
        }
      ]
    },
    {
      "cell_type": "markdown",
      "source": [
        "Q11. Write a code to remove all occurrences of a specific element from a list."
      ],
      "metadata": {
        "id": "kO8UXe_lYETp"
      }
    },
    {
      "cell_type": "code",
      "source": [
        "def remove_occurrences(lst, element):\n",
        "    return [item for item in lst if item != element]\n",
        "\n",
        "# Example usage\n",
        "my_list = [3, 4, 5, 6, 4, 7]\n",
        "element_to_remove = 4\n",
        "result = remove_occurrences(my_list, element_to_remove)\n",
        "print(result)  # Output: [1, 3, 4, 5]\n"
      ],
      "metadata": {
        "colab": {
          "base_uri": "https://localhost:8080/"
        },
        "id": "9SLuMU7IYT6c",
        "outputId": "01133e56-0e5a-4c40-a198-3937e0e07bb6"
      },
      "execution_count": null,
      "outputs": [
        {
          "output_type": "stream",
          "name": "stdout",
          "text": [
            "[3, 5, 6, 7]\n"
          ]
        }
      ]
    },
    {
      "cell_type": "markdown",
      "source": [
        "Q12. Implement a code to find the second largest number in a given list of integers."
      ],
      "metadata": {
        "id": "y0_ZbNcTYxae"
      }
    },
    {
      "cell_type": "code",
      "source": [
        "def second_largest(numbers):\n",
        "    unique_numbers = list(set(numbers))  # Remove duplicates\n",
        "    unique_numbers.sort()  # Sort the list\n",
        "    return unique_numbers[-2] if len(unique_numbers) >= 2 else None\n",
        "\n",
        "# Example usage\n",
        "my_list = [6, 7, 9, 2, 5, 11, 10]\n",
        "result = second_largest(my_list)\n",
        "print(result)  # Output: 10\n"
      ],
      "metadata": {
        "colab": {
          "base_uri": "https://localhost:8080/"
        },
        "id": "BnY6ubsJZFOh",
        "outputId": "bdcee1a0-7f8b-48f8-ba98-493506fc2250"
      },
      "execution_count": null,
      "outputs": [
        {
          "output_type": "stream",
          "name": "stdout",
          "text": [
            "10\n"
          ]
        }
      ]
    },
    {
      "cell_type": "markdown",
      "source": [
        "Q13. 13. Create a code to count the occurrences of each element in a list and return a dictionary with elements as keys and their counts as values."
      ],
      "metadata": {
        "id": "kofc0Qv_ZZSQ"
      }
    },
    {
      "cell_type": "code",
      "source": [
        "def count_occurrences(lst):\n",
        "    counts = {}\n",
        "    for item in lst:\n",
        "        counts[item] = counts.get(item, 0) + 1\n",
        "    return counts\n",
        "\n",
        "# Example usage\n",
        "my_list = [2, 3, 3, 5, 1, 6, 6, 6]\n",
        "result = count_occurrences(my_list)\n",
        "print(result)  # Output: {2: 1, 3: 2, 5: 1, 1: 1, 6: 3}\n"
      ],
      "metadata": {
        "colab": {
          "base_uri": "https://localhost:8080/"
        },
        "id": "U_owOf7FZ82B",
        "outputId": "6db71610-99cf-4899-fd0d-8334c9fb6fd5"
      },
      "execution_count": null,
      "outputs": [
        {
          "output_type": "stream",
          "name": "stdout",
          "text": [
            "{2: 1, 3: 2, 5: 1, 1: 1, 6: 3}\n"
          ]
        }
      ]
    },
    {
      "cell_type": "markdown",
      "source": [
        "Q14. Write a code to reverse a list in-place without using any built-in reverse functions."
      ],
      "metadata": {
        "id": "IQoTnTWIa98Y"
      }
    },
    {
      "cell_type": "code",
      "source": [
        "def reverse_list(lst):\n",
        "    left, right = 0, len(lst) - 1\n",
        "    while left < right:\n",
        "        lst[left], lst[right] = lst[right], lst[left]  # Swap elements\n",
        "        left += 1\n",
        "        right -= 1\n",
        "\n",
        "# Example usage\n",
        "my_list = [39, 40, 41, 42, 43]\n",
        "reverse_list(my_list)\n",
        "print(my_list)  # Output: [43, 42, 41, 40, 39]\n",
        "\n"
      ],
      "metadata": {
        "colab": {
          "base_uri": "https://localhost:8080/"
        },
        "id": "41K8cErjbE_R",
        "outputId": "326c0c9a-80c2-4ab9-eec8-e15ff3817795"
      },
      "execution_count": null,
      "outputs": [
        {
          "output_type": "stream",
          "name": "stdout",
          "text": [
            "[43, 42, 41, 40, 39]\n"
          ]
        }
      ]
    },
    {
      "cell_type": "markdown",
      "source": [
        "Q15. Implement a code to find and remove duplicates from a list while preserving the original order of elements."
      ],
      "metadata": {
        "id": "e9meAE2ablLr"
      }
    },
    {
      "cell_type": "code",
      "source": [
        "def remove_duplicates(lst):\n",
        "    seen = set()\n",
        "    result = []\n",
        "\n",
        "    for item in lst:\n",
        "        if item not in seen:\n",
        "            seen.add(item)\n",
        "            result.append(item)\n",
        "\n",
        "    return result\n",
        "\n",
        "# Example usage\n",
        "my_list = [6, 8, 7, 9, 7, 6, 8, 9]\n",
        "result = remove_duplicates(my_list)\n",
        "print(result)  # Output: [6, 8, 7,9]\n"
      ],
      "metadata": {
        "colab": {
          "base_uri": "https://localhost:8080/"
        },
        "id": "dwICjwhQbo5Z",
        "outputId": "f5946744-9802-430e-f83c-29d005d42199"
      },
      "execution_count": null,
      "outputs": [
        {
          "output_type": "stream",
          "name": "stdout",
          "text": [
            "[6, 8, 7, 9]\n"
          ]
        }
      ]
    },
    {
      "cell_type": "markdown",
      "source": [
        "Q16. Create a code to check if a given list is sorted (either in ascending or descending order) or not."
      ],
      "metadata": {
        "id": "0fW8dgQCcGcD"
      }
    },
    {
      "cell_type": "code",
      "source": [
        " def is_sorted(lst):\n",
        "    return lst == sorted(lst) or lst == sorted(lst, reverse=True)\n",
        "\n",
        "# For Example\n",
        "lst = [9, 10, 11, 12]\n",
        "print(is_sorted(lst))\n",
        "\n",
        "lst = [12, 11, 10, 9]\n",
        "print(is_sorted(lst))\n",
        "\n",
        "lst = [9, 11, 10, 12]\n",
        "print(is_sorted(lst))\n"
      ],
      "metadata": {
        "colab": {
          "base_uri": "https://localhost:8080/"
        },
        "id": "cttzBnF8cUVw",
        "outputId": "f1fe7043-6fc7-4590-ef95-0dfa58f00e56"
      },
      "execution_count": null,
      "outputs": [
        {
          "output_type": "stream",
          "name": "stdout",
          "text": [
            "True\n",
            "True\n",
            "False\n"
          ]
        }
      ]
    },
    {
      "cell_type": "markdown",
      "source": [],
      "metadata": {
        "id": "qirIkbuvcjYE"
      }
    },
    {
      "cell_type": "markdown",
      "source": [
        "Q17. Write a code to merge two sorted lists into a single sorted list."
      ],
      "metadata": {
        "id": "hIS5J66VcjpO"
      }
    },
    {
      "cell_type": "code",
      "source": [
        "def merge_sorted_lists(list1, list2):\n",
        "    merged_list = []\n",
        "    i, j = 0, 0\n",
        "\n",
        "    # Traverse both lists and merge\n",
        "    while i < len(list1) and j < len(list2):\n",
        "        if list1[i] < list2[j]:\n",
        "            merged_list.append(list1[i])\n",
        "            i += 1\n",
        "        else:\n",
        "            merged_list.append(list2[j])\n",
        "            j += 1\n",
        "\n",
        "    # Append remaining elements from list1 or list2\n",
        "    merged_list.extend(list1[i:])\n",
        "    merged_list.extend(list2[j:])\n",
        "\n",
        "    return merged_list\n",
        "\n",
        "# For Example\n",
        "list1 = [4, 6, 8]\n",
        "list2 = [5, 7,9]\n",
        "result = merge_sorted_lists(list1, list2)\n",
        "print(result)\n"
      ],
      "metadata": {
        "colab": {
          "base_uri": "https://localhost:8080/"
        },
        "id": "FS5AvMlidJyf",
        "outputId": "3512d2ae-7ac7-4dc2-ace2-5f62bd5b031e"
      },
      "execution_count": null,
      "outputs": [
        {
          "output_type": "stream",
          "name": "stdout",
          "text": [
            "[4, 5, 6, 7, 8, 9]\n"
          ]
        }
      ]
    },
    {
      "cell_type": "markdown",
      "source": [
        "Q18.  Implement a code to find the intersection of two given lists."
      ],
      "metadata": {
        "id": "v9kJVckidn7m"
      }
    },
    {
      "cell_type": "code",
      "source": [
        "def intersection(list1, list2):\n",
        "    return list(set(list1) & set(list2))\n",
        "\n",
        "# Example usage\n",
        "list1 = [21, 22, 23, 24, 25]\n",
        "list2 = [24, 25, 21, 18, 19]\n",
        "result = intersection(list1, list2)\n",
        "print(result)  # Output: [24, 25,21]\n"
      ],
      "metadata": {
        "colab": {
          "base_uri": "https://localhost:8080/"
        },
        "id": "YTfAh4ljfEND",
        "outputId": "866b114f-905d-4116-9336-fb31592230fa"
      },
      "execution_count": null,
      "outputs": [
        {
          "output_type": "stream",
          "name": "stdout",
          "text": [
            "[24, 25, 21]\n"
          ]
        }
      ]
    },
    {
      "cell_type": "markdown",
      "source": [
        "Q19. Create a code to find the union of two lists without duplicates."
      ],
      "metadata": {
        "id": "dA9dYJ7MfTGm"
      }
    },
    {
      "cell_type": "code",
      "source": [
        "def union_lists(list1, list2):\n",
        "    return list(set(list1) | set(list2))\n",
        "\n",
        "# Example usage:\n",
        "list1 = [20, 21, 22, 23]\n",
        "list2 = [22, 23, 24, 25]\n",
        "\n",
        "result = union_lists(list1, list2)\n",
        "print(result)\n"
      ],
      "metadata": {
        "colab": {
          "base_uri": "https://localhost:8080/"
        },
        "id": "06FiqrbyfkIo",
        "outputId": "866e4735-990d-450e-8457-ec768735224a"
      },
      "execution_count": null,
      "outputs": [
        {
          "output_type": "stream",
          "name": "stdout",
          "text": [
            "[20, 21, 22, 23, 24, 25]\n"
          ]
        }
      ]
    },
    {
      "cell_type": "markdown",
      "source": [
        "Q20. Write a code to shuffle a given list randomly without using any built-in shuffle functions"
      ],
      "metadata": {
        "id": "Q4lbD9AefwGg"
      }
    },
    {
      "cell_type": "code",
      "source": [
        "import random\n",
        "\n",
        "def shuffle_list(lst):\n",
        "    shuffled = lst[:]  # Create a copy of the list\n",
        "    n = len(shuffled)\n",
        "\n",
        "    for i in range(n):\n",
        "        # Generate a random index\n",
        "        rand_index = random.randint(0, n - 1)\n",
        "        # Swap the current element with the randomly selected element\n",
        "        shuffled[i], shuffled[rand_index] = shuffled[rand_index], shuffled[i]\n",
        "\n",
        "    return shuffled\n",
        "\n",
        "# Example usage\n",
        "my_list = [7, 8, 9, 10, 11]\n",
        "shuffled_list = shuffle_list(my_list)\n",
        "print(shuffled_list)  # Output: Randomly shuffled list\n"
      ],
      "metadata": {
        "colab": {
          "base_uri": "https://localhost:8080/"
        },
        "id": "6S1YVIj0gYsp",
        "outputId": "66f720d6-b8e1-46ec-8c17-6bd807a80282"
      },
      "execution_count": null,
      "outputs": [
        {
          "output_type": "stream",
          "name": "stdout",
          "text": [
            "[11, 7, 8, 9, 10]\n"
          ]
        }
      ]
    },
    {
      "cell_type": "markdown",
      "source": [
        "Q21.  Write a code that takes two tuples as input and returns a new tuple containing elements that are common to both input tuples."
      ],
      "metadata": {
        "id": "ReVBdlemgz3h"
      }
    },
    {
      "cell_type": "code",
      "execution_count": null,
      "metadata": {
        "colab": {
          "base_uri": "https://localhost:8080/"
        },
        "id": "_VUJJFOyw4OP",
        "outputId": "784f5b7e-5209-48a7-ef4a-0f78a5eea00f"
      },
      "outputs": [
        {
          "output_type": "stream",
          "name": "stdout",
          "text": [
            "(13, 14)\n"
          ]
        }
      ],
      "source": [
        "def common_elements(tuple1, tuple2):\n",
        "    # Convert tuples to sets to find common elements\n",
        "    common_set = set(tuple1) & set(tuple2)\n",
        "    # Return a new tuple with the common elements\n",
        "    return tuple(common_set)\n",
        "\n",
        "# Example usage:\n",
        "tuple1 = (11, 12, 13, 14)\n",
        "tuple2 = (13, 14, 15, 16)\n",
        "result = common_elements(tuple1, tuple2)\n",
        "print(result)  # Output: (13, 14)"
      ]
    },
    {
      "cell_type": "markdown",
      "source": [
        "Q22. Create a code that prompts the user to enter two sets of integers separated by commas. Then, print the Intersection of these two sets."
      ],
      "metadata": {
        "id": "spNwqvTUg-6i"
      }
    },
    {
      "cell_type": "code",
      "execution_count": null,
      "metadata": {
        "colab": {
          "base_uri": "https://localhost:8080/"
        },
        "id": "A8kE7d4g1UVL",
        "outputId": "8469d28e-1cec-4dc4-b8b0-b0fb21c81d62"
      },
      "outputs": [
        {
          "output_type": "stream",
          "name": "stdout",
          "text": [
            "Enter the first set of strings (separated by spaces): 1, 2. 3. 4\n",
            "Enter the second set of strings (separated by spaces): 8, 3, 4, 10\n",
            "Symmetric difference of the two sets: {'10', '4,', '4', '3.', '2.', '8,', '3,', '1,'}\n"
          ]
        }
      ],
      "source": [
        "# Prompt user for input\n",
        "set1_input = input(\"Enter the first set of strings (separated by spaces): \")\n",
        "set2_input = input(\"Enter the second set of strings (separated by spaces): \")\n",
        "\n",
        "# Convert input strings to sets\n",
        "set1 = set(set1_input.split())\n",
        "set2 = set(set2_input.split())\n",
        "\n",
        "# Calculate the symmetric difference of the two sets\n",
        "symmetric_difference = set1.symmetric_difference(set2)  # Alternatively, you can use set1 ^ set2\n",
        "\n",
        "# Print the result\n",
        "print(\"Symmetric difference of the two sets:\", symmetric_difference)"
      ]
    },
    {
      "cell_type": "markdown",
      "source": [
        "Q23. Write a code to concatenate two tuples. The function should take two tuples as input and return a new tuple containing elements from both input tuples."
      ],
      "metadata": {
        "id": "OEh2SlBphJcq"
      }
    },
    {
      "cell_type": "code",
      "source": [
        "def concatenate_tuples(tuple1, tuple2):\n",
        "    # Concatenate the two tuples\n",
        "    return tuple1 + tuple2\n",
        "\n",
        "# Example usage\n",
        "tuple_a = (10, 22, 23)\n",
        "tuple_b = (44, 65, 60)\n",
        "result = concatenate_tuples(tuple_a, tuple_b)\n",
        "\n",
        "print(\"Tuple A:\", tuple_a)           # Output: Tuple A: (10, 22, 23)\n",
        "print(\"Tuple B:\", tuple_b)           # Output: Tuple B: (44, 65, 60)\n",
        "print(\"Concatenated Tuple:\", result)  # Output: Concatenated Tuple: (10, 22, 23, 44, 65, 60)"
      ],
      "metadata": {
        "id": "lb_htF-23Y5H",
        "outputId": "b94ce6b6-650f-4900-a65c-bd9f6264c582",
        "colab": {
          "base_uri": "https://localhost:8080/"
        }
      },
      "execution_count": null,
      "outputs": [
        {
          "output_type": "stream",
          "name": "stdout",
          "text": [
            "Tuple A: (10, 22, 23)\n",
            "Tuple B: (44, 65, 60)\n",
            "Concatenated Tuple: (10, 22, 23, 44, 65, 60)\n"
          ]
        }
      ]
    },
    {
      "cell_type": "markdown",
      "source": [
        "Q24. Develop a code that prompts the user to input two sets of strings. Then, print the elements that are present in the first set but not in the second set."
      ],
      "metadata": {
        "id": "ShPORVY5hXL_"
      }
    },
    {
      "cell_type": "code",
      "source": [
        "# Prompt user for input\n",
        "set1_input = input(\"Enter the first set of strings (separated by spaces): \")\n",
        "set2_input = input(\"Enter the second set of strings (separated by spaces): \")\n",
        "\n",
        "# Convert input strings to sets\n",
        "set1 = set(set1_input.split())\n",
        "set2 = set(set2_input.split())\n",
        "\n",
        "# Calculate elements present in the first set but not in the second set\n",
        "difference_set = set1 - set2  # Alternatively, you can use set1.difference(set2)\n",
        "\n",
        "# Print the result\n",
        "print(\"Elements present in the first set but not in the second set:\", difference_set)"
      ],
      "metadata": {
        "colab": {
          "base_uri": "https://localhost:8080/"
        },
        "id": "_gbWTKn-3oO9",
        "outputId": "e976b7b6-d914-46f4-f33a-e0cbb8f9a82a"
      },
      "execution_count": null,
      "outputs": [
        {
          "output_type": "stream",
          "name": "stdout",
          "text": [
            "Enter the first set of strings (separated by spaces): rose daliah sunflower\n",
            "Enter the second set of strings (separated by spaces): sunflower hibiscus lavendar\n",
            "Elements present in the first set but not in the second set: {'rose', 'daliah'}\n"
          ]
        }
      ]
    },
    {
      "cell_type": "markdown",
      "source": [
        "Q25. Create a code that takes a tuple and two integers as input. The function should return a new tuple containing elements from the original tuple within the specified range of indices."
      ],
      "metadata": {
        "id": "jysEAEOPhdsi"
      }
    },
    {
      "cell_type": "code",
      "source": [
        "def extract_range_from_tuple(tup, start, end):\n",
        "    # Return a new tuple with elements from the specified range\n",
        "    return tup[start:end]\n",
        "\n",
        "# Example usage\n",
        "input_tuple = (10, 20, 30, 40, 50, 60)\n",
        "start_index = 1\n",
        "end_index = 4\n",
        "result = extract_range_from_tuple(input_tuple, start_index, end_index)\n",
        "\n",
        "print(\"Original tuple:\", input_tuple)            # Output: (10, 20, 30, 40, 50, 60)\n",
        "print(\"Extracted range:\", result)                 # Output: (20, 30, 40)\n"
      ],
      "metadata": {
        "colab": {
          "base_uri": "https://localhost:8080/"
        },
        "id": "rH7mKwutxrZw",
        "outputId": "3ba79ba3-a114-4c48-89c5-0afa5f876a17"
      },
      "execution_count": null,
      "outputs": [
        {
          "output_type": "stream",
          "name": "stdout",
          "text": [
            "Original tuple: (10, 20, 30, 40, 50, 60)\n",
            "Extracted range: (20, 30, 40)\n"
          ]
        }
      ]
    },
    {
      "cell_type": "markdown",
      "source": [
        "Q26. Write a code that prompts the user to input two sets of characters. Then, print the union of these two sets."
      ],
      "metadata": {
        "id": "Q2V3d1nphmWz"
      }
    },
    {
      "cell_type": "code",
      "source": [
        "# Prompt user for input\n",
        "set1_input = input(\"Enter the first set of characters (separated by spaces): \")\n",
        "set2_input = input(\"Enter the second set of characters (separated by spaces): \")\n",
        "\n",
        "# Convert input strings to sets\n",
        "set1 = set(set1_input.split())\n",
        "set2 = set(set2_input.split())\n",
        "\n",
        "# Calculate the union of the two sets\n",
        "union_set = set1.union(set2)  # Alternatively, you can use set1 | set2\n",
        "\n",
        "# Print the result\n",
        "print(\"Union of the two sets:\", union_set)\n"
      ],
      "metadata": {
        "colab": {
          "base_uri": "https://localhost:8080/"
        },
        "id": "BU1KmR1X4EDU",
        "outputId": "28edf44c-413e-4bb0-b824-2f418bebe1ac"
      },
      "execution_count": null,
      "outputs": [
        {
          "output_type": "stream",
          "name": "stdout",
          "text": [
            "Enter the first set of characters (separated by spaces): v n m\n",
            "Enter the second set of characters (separated by spaces): m b g\n",
            "Union of the two sets: {'g', 'm', 'b', 'v', 'n'}\n"
          ]
        }
      ]
    },
    {
      "cell_type": "markdown",
      "source": [
        "Q27. Develop a code that takes a tuple of integers as input. The function should return the maximum and minimum values from the tuple using tuple unpacking."
      ],
      "metadata": {
        "id": "ie5E_tNqhqhC"
      }
    },
    {
      "cell_type": "code",
      "source": [
        "def max_min_from_tuple(int_tuple):\n",
        "    # Find maximum and minimum values\n",
        "    max_value = max(int_tuple)\n",
        "    min_value = min(int_tuple)\n",
        "\n",
        "    # Return the results as a tuple\n",
        "    return max_value, min_value\n",
        "\n",
        "# Example usage\n",
        "input_tuple = (27, 39, 91, 19, 94)\n",
        "max_value, min_value = max_min_from_tuple(input_tuple)\n",
        "\n",
        "print(\"Maximum value:\", max_value)  # Output: Maximum value: 94\n",
        "print(\"Minimum value:\", min_value)   # Output: Minimum value: 19"
      ],
      "metadata": {
        "colab": {
          "base_uri": "https://localhost:8080/"
        },
        "id": "YsqKII-yr0mt",
        "outputId": "7ae03eb4-6e67-4664-8949-62d7617e5eff"
      },
      "execution_count": null,
      "outputs": [
        {
          "output_type": "stream",
          "name": "stdout",
          "text": [
            "Maximum value: 94\n",
            "Minimum value: 19\n"
          ]
        }
      ]
    },
    {
      "cell_type": "markdown",
      "source": [
        "Q28. Create a code that defines two sets of integers. Then, print the union, intersection, and difference of these two sets."
      ],
      "metadata": {
        "id": "h861j_EXhwbR"
      }
    },
    {
      "cell_type": "code",
      "source": [
        "# Define two sets of integers\n",
        "set1 = {11, 12, 13, 14, 15}\n",
        "set2 = {14, 15, 16, 17, 18}\n",
        "\n",
        "# Calculate union, intersection, and difference\n",
        "union_set = set1 | set2\n",
        "intersection_set = set1 & set2\n",
        "difference_set1 = set1 - set2\n",
        "difference_set2 = set2 - set1\n",
        "\n",
        "# Print the results\n",
        "print(\"Set 1:\", set1)\n",
        "print(\"Set 2:\", set2)\n",
        "print(\"Union of the two sets:\", union_set)               # Output: {11, 12, 13, 14, 15, 16, 17, 18}\n",
        "print(\"Intersection of the two sets:\", intersection_set) # Output: {14, 15}\n",
        "print(\"Difference (Set 1 - Set 2):\", difference_set1)   # Output: {11, 12, 13}\n",
        "print(\"Difference (Set 2 - Set 1):\", difference_set2)   # Output: {18, 16, 17}"
      ],
      "metadata": {
        "colab": {
          "base_uri": "https://localhost:8080/"
        },
        "id": "ta7c3CgzsmHM",
        "outputId": "3613a984-2bc5-467e-ea28-c43a7e64f7af"
      },
      "execution_count": null,
      "outputs": [
        {
          "output_type": "stream",
          "name": "stdout",
          "text": [
            "Set 1: {11, 12, 13, 14, 15}\n",
            "Set 2: {16, 17, 18, 14, 15}\n",
            "Union of the two sets: {11, 12, 13, 14, 15, 16, 17, 18}\n",
            "Intersection of the two sets: {14, 15}\n",
            "Difference (Set 1 - Set 2): {11, 12, 13}\n",
            "Difference (Set 2 - Set 1): {16, 17, 18}\n"
          ]
        }
      ]
    },
    {
      "cell_type": "markdown",
      "source": [
        "Q29. Write a code that takes a tuple and an element as input. The function should return the count of occurrences of the given element in the tuple."
      ],
      "metadata": {
        "id": "bdTI71yqh2k3"
      }
    },
    {
      "cell_type": "code",
      "source": [
        "def count_occurrences(tup, element):\n",
        "    return tup.count(element)\n",
        "\n",
        "# Example usage\n",
        "input_tuple = (21, 22, 23, 22, 24, 22, 25)\n",
        "element_to_count = 22\n",
        "count = count_occurrences(input_tuple, element_to_count)\n",
        "\n",
        "print(f\"The element {element_to_count} occurs {count} time(s) in the tuple.\")  # Output: 3\n"
      ],
      "metadata": {
        "colab": {
          "base_uri": "https://localhost:8080/"
        },
        "id": "XGjScP0gtC9u",
        "outputId": "e4916789-4ee9-4eb8-b937-a736a70a8fcb"
      },
      "execution_count": null,
      "outputs": [
        {
          "output_type": "stream",
          "name": "stdout",
          "text": [
            "The element 22 occurs 3 time(s) in the tuple.\n"
          ]
        }
      ]
    },
    {
      "cell_type": "markdown",
      "source": [
        "Q30. Develop a code that prompts the user to input two sets of strings. Then, print the symmetric difference of these two sets."
      ],
      "metadata": {
        "id": "4cHugBynh7AL"
      }
    },
    {
      "cell_type": "code",
      "source": [
        "# Prompt user for input\n",
        "set1_input = input(\"Enter the first set of strings (separated by spaces): \")\n",
        "set2_input = input(\"Enter the second set of strings (separated by spaces): \")\n",
        "\n",
        "# Convert input strings to sets\n",
        "set1 = set(set1_input.split())\n",
        "set2 = set(set2_input.split())\n",
        "\n",
        "# Calculate the symmetric difference of the two sets\n",
        "symmetric_difference = set1.symmetric_difference(set2)  # Alternatively, you can use set1 ^ set2\n",
        "\n",
        "# Print the result\n",
        "print(\"Symmetric difference of the two sets:\", symmetric_difference)\n"
      ],
      "metadata": {
        "colab": {
          "base_uri": "https://localhost:8080/"
        },
        "id": "P-BhzPXb4SY1",
        "outputId": "08f0ed99-dc1c-49f7-8244-403b60a59600"
      },
      "execution_count": null,
      "outputs": [
        {
          "output_type": "stream",
          "name": "stdout",
          "text": [
            "Enter the first set of strings (separated by spaces): rice vegies dal\n",
            "Enter the second set of strings (separated by spaces): dal chicken water\n",
            "Symmetric difference of the two sets: {'water', 'chicken', 'vegies', 'rice'}\n"
          ]
        }
      ]
    },
    {
      "cell_type": "markdown",
      "source": [
        "Q31. Write a code that takes a list of words as input and returns a dictionary where the keys are unique words and the values are the frequencies of those words in the input list."
      ],
      "metadata": {
        "id": "GXgGc10z4eJt"
      }
    },
    {
      "cell_type": "code",
      "source": [
        "def word_frequencies(words):\n",
        "    frequency_dict = {}\n",
        "    for word in words:\n",
        "        # Increment the count for each word\n",
        "        if word in frequency_dict:\n",
        "            frequency_dict[word] += 1\n",
        "        else:\n",
        "            frequency_dict[word] = 1\n",
        "    return frequency_dict\n",
        "\n",
        "# Example usage\n",
        "input_list = input(\"Enter a list of words (separated by spaces): \").split()\n",
        "result = word_frequencies(input_list)\n",
        "\n",
        "print(\"Word Frequencies:\", result)\n"
      ],
      "metadata": {
        "colab": {
          "base_uri": "https://localhost:8080/"
        },
        "id": "pi2D5SFs4nZd",
        "outputId": "0cf7e50f-3137-4aed-dd48-45778807b734"
      },
      "execution_count": null,
      "outputs": [
        {
          "output_type": "stream",
          "name": "stdout",
          "text": [
            "Enter a list of words (separated by spaces): flower fruit food \n",
            "Word Frequencies: {'flower': 1, 'fruit': 1, 'food': 1}\n"
          ]
        }
      ]
    },
    {
      "cell_type": "markdown",
      "source": [
        "  Q32. Write a code that takes two dictionaries as input and merges them into a single dictionary. if there are common keys, the values should be added together."
      ],
      "metadata": {
        "id": "0t3kID7K47zt"
      }
    },
    {
      "cell_type": "code",
      "source": [
        "def merge_dictionaries(dict1, dict2):\n",
        "    merged_dict = dict1.copy()  # Create a copy of the first dictionary\n",
        "\n",
        "    for key, value in dict2.items():\n",
        "        if key in merged_dict:\n",
        "            # Add values if the key is common\n",
        "            merged_dict[key] += value\n",
        "        else:\n",
        "            # Add the new key-value pair\n",
        "            merged_dict[key] = value\n",
        "\n",
        "    return merged_dict\n",
        "\n",
        "# Example usage\n",
        "dict1_input = input(\"Enter the first dictionary (e.g., a=1 b=2): \")\n",
        "dict2_input = input(\"Enter the second dictionary (e.g., a=3 b=4): \")\n",
        "\n",
        "# Convert input strings to dictionaries\n",
        "dict1 = dict(item.split('=') for item in dict1_input.split())\n",
        "dict2 = dict(item.split('=') for item in dict2_input.split())\n",
        "\n",
        "# Convert string values to integers\n",
        "dict1 = {k: int(v) for k, v in dict1.items()}\n",
        "dict2 = {k: int(v) for k, v in dict2.items()}\n",
        "\n",
        "# Merge the dictionaries\n",
        "result = merge_dictionaries(dict1, dict2)\n",
        "\n",
        "print(\"Merged Dictionary:\", result)\n"
      ],
      "metadata": {
        "id": "oOLnqFIB5eBs",
        "outputId": "85b59924-1e94-470d-ada0-d694f50ef661",
        "colab": {
          "base_uri": "https://localhost:8080/"
        }
      },
      "execution_count": null,
      "outputs": [
        {
          "output_type": "stream",
          "name": "stdout",
          "text": [
            "Enter the first dictionary (e.g., a=1 b=2): a=1 b=2\n",
            "Enter the second dictionary (e.g., a=3 b=4): a=3 b=4\n",
            "Merged Dictionary: {'a': 4, 'b': 6}\n"
          ]
        }
      ]
    },
    {
      "cell_type": "markdown",
      "source": [
        "Q33. Write a code to access a value in a nested dictionary. The function should take the dictionary and a list of keys as input, and return the corresponding value. If any of the keys do not exist in the dictionary, the function should return None.\n",
        "\n",
        "\n"
      ],
      "metadata": {
        "id": "UsOf-RPU5uxW"
      }
    },
    {
      "cell_type": "code",
      "source": [],
      "metadata": {
        "id": "D8LOGp5x6hIt"
      },
      "execution_count": null,
      "outputs": []
    },
    {
      "cell_type": "code",
      "source": [
        "def access_nested_value(nested_dict, keys):\n",
        "    current_value = nested_dict\n",
        "    for key in keys:\n",
        "        # Check if the key exists in the current dictionary\n",
        "        if isinstance(current_value, dict) and key in current_value:\n",
        "            current_value = current_value[key]  # Move to the next level\n",
        "        else:\n",
        "            return None  # Return None if the key doesn't exist\n",
        "    return current_value  # Return the found value\n",
        "\n",
        "# Example usage\n",
        "nested_dict = {\n",
        "    'a': {\n",
        "        'b': {\n",
        "            'c': 24\n",
        "        }\n",
        "    },\n",
        "    'x': {\n",
        "        'y': 100\n",
        "    }\n",
        "}\n",
        "\n",
        "# Input keys to access\n",
        "keys_input = input(\"Enter a list of keys (separated by spaces): \").split()\n",
        "\n",
        "# Access the value in the nested dictionary\n",
        "result = access_nested_value(nested_dict, keys_input)\n",
        "\n",
        "if result is not None:\n",
        "    print(\"Value found:\", result)\n",
        "else:\n",
        "    print(\"None of the keys exist in the dictionary.\")\n"
      ],
      "metadata": {
        "colab": {
          "base_uri": "https://localhost:8080/"
        },
        "id": "6J1miX-l5759",
        "outputId": "933ab798-8f5f-43f2-9ff1-9e77f9094c8a"
      },
      "execution_count": null,
      "outputs": [
        {
          "output_type": "stream",
          "name": "stdout",
          "text": [
            "Enter a list of keys (separated by spaces): a y\n",
            "None of the keys exist in the dictionary.\n"
          ]
        }
      ]
    },
    {
      "cell_type": "markdown",
      "source": [
        "Q34.  Write a code that takes a dictionary as input and returns a sorted version of it based on the values. You can choose whether to sort in ascending or descending order."
      ],
      "metadata": {
        "id": "ePX-eXW-6jmr"
      }
    },
    {
      "cell_type": "code",
      "source": [
        "def sort_dict_by_value(input_dict, ascending=True):\n",
        "    # Sort the dictionary by its values\n",
        "    sorted_dict = dict(sorted(input_dict.items(), key=lambda item: item[1], reverse=not ascending))\n",
        "    return sorted_dict\n",
        "\n",
        "# Example usage\n",
        "dict_input = input(\"Enter a dictionary (e.g., p=1 q=3 r=2): \")\n",
        "\n",
        "# Convert input string to dictionary\n",
        "input_dict = dict(item.split('=') for item in dict_input.split())\n",
        "# Convert string values to integers\n",
        "input_dict = {k: int(v) for k, v in input_dict.items()}\n",
        "\n",
        "# Choose sorting order\n",
        "order_input = input(\"Sort in ascending order? (yes/no): \").strip().lower()\n",
        "ascending = order_input == 'yes'\n",
        "\n",
        "# Get sorted dictionary\n",
        "result = sort_dict_by_value(input_dict, ascending)\n",
        "\n",
        "print(\"Sorted Dictionary:\", result)\n"
      ],
      "metadata": {
        "colab": {
          "base_uri": "https://localhost:8080/"
        },
        "id": "RgyTBKan6tj9",
        "outputId": "982403a3-aa8a-49fb-d56c-924495936273"
      },
      "execution_count": null,
      "outputs": [
        {
          "output_type": "stream",
          "name": "stdout",
          "text": [
            "Enter a dictionary (e.g., p=1 q=3 r=2): p=1 q=3 r=2\n",
            "Sort in ascending order? (yes/no): yes\n",
            "Sorted Dictionary: {'p': 1, 'r': 2, 'q': 3}\n"
          ]
        }
      ]
    },
    {
      "cell_type": "markdown",
      "source": [
        "Q35. Write a code that inverts a dictionary, swapping keys and values. Ensure that the inverted dictionary correctly handles cases where multiple keys have the same value by storing the keys as a list in the inverted dictionary."
      ],
      "metadata": {
        "id": "JhIJe6Gk6_wk"
      }
    },
    {
      "cell_type": "code",
      "source": [
        "def invert_dictionary(input_dict):\n",
        "    inverted_dict = {}\n",
        "\n",
        "    for key, value in input_dict.items():\n",
        "        if value in inverted_dict:\n",
        "            # If the value already exists, append the key to the list\n",
        "            inverted_dict[value].append(key)\n",
        "        else:\n",
        "            # Create a new entry with the value as the key and the key as a list\n",
        "            inverted_dict[value] = [key]\n",
        "\n",
        "    return inverted_dict\n",
        "\n",
        "# Example usage\n",
        "dict_input = input(\"Enter a dictionary (e.g., i=8 j=6 k=4): \")\n",
        "\n",
        "# Convert input string to dictionary\n",
        "input_dict = dict(item.split('=') for item in dict_input.split())\n",
        "# Convert string values to integers\n",
        "input_dict = {k: int(v) for k, v in input_dict.items()}\n",
        "\n",
        "# Invert the dictionary\n",
        "result = invert_dictionary(input_dict)\n",
        "\n",
        "print(\"Inverted Dictionary:\", result)\n"
      ],
      "metadata": {
        "colab": {
          "base_uri": "https://localhost:8080/"
        },
        "id": "FphYZGo97I2Q",
        "outputId": "88bba6ea-307a-4a04-a97f-663e0e4eb0ac"
      },
      "execution_count": null,
      "outputs": [
        {
          "output_type": "stream",
          "name": "stdout",
          "text": [
            "Enter a dictionary (e.g., i=8 j=6 k=4): i=8 j=6 k=4\n",
            "Inverted Dictionary: {8: ['i'], 6: ['j'], 4: ['k']}\n"
          ]
        }
      ]
    }
  ]
}